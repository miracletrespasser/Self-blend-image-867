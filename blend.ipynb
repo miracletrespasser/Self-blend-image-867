{
  "nbformat": 4,
  "nbformat_minor": 0,
  "metadata": {
    "colab": {
      "provenance": []
    },
    "kernelspec": {
      "name": "python3",
      "display_name": "Python 3"
    },
    "language_info": {
      "name": "python"
    }
  },
  "cells": [
    {
      "cell_type": "code",
      "execution_count": null,
      "metadata": {
        "id": "35zi4V6fXJ4J"
      },
      "outputs": [],
      "source": [
        "# Created by: Kaede Shiohara\n",
        "# Yamasaki Lab at The University of Tokyo\n",
        "# shiohara@cvm.t.u-tokyo.ac.jp\n",
        "# Copyright (c) 2021\n",
        "# 3rd party softwares' licenses are noticed at https://github.com/mapooon/SelfBlendedImages/blob/master/LICENSE\n",
        "\n",
        "import cv2\n",
        "import numpy as np\n",
        "import scipy as sp\n",
        "from skimage.measure import label, regionprops\n",
        "import random\n",
        "from PIL import Image\n",
        "import sys\n",
        "\n",
        "\n",
        "\n",
        "def alpha_blend(source,target,mask):\n",
        "\tmask_blured = get_blend_mask(mask)\n",
        "\timg_blended=(mask_blured * source + (1 - mask_blured) * target)\n",
        "\treturn img_blended,mask_blured\n",
        "\n",
        "def dynamic_blend(source,target,mask):\n",
        "\tmask_blured = get_blend_mask(mask)\n",
        "\tblend_list=[0.25,0.5,0.75,1,1,1]\n",
        "\tblend_ratio = blend_list[np.random.randint(len(blend_list))]\n",
        "\tmask_blured*=blend_ratio\n",
        "\timg_blended=(mask_blured * source + (1 - mask_blured) * target)\n",
        "\treturn img_blended,mask_blured\n",
        "\n",
        "def get_blend_mask(mask):\n",
        "\tH,W=mask.shape\n",
        "\tsize_h=np.random.randint(192,257)\n",
        "\tsize_w=np.random.randint(192,257)\n",
        "\tmask=cv2.resize(mask,(size_w,size_h))\n",
        "\tkernel_1=random.randrange(5,26,2)\n",
        "\tkernel_1=(kernel_1,kernel_1)\n",
        "\tkernel_2=random.randrange(5,26,2)\n",
        "\tkernel_2=(kernel_2,kernel_2)\n",
        "\t\n",
        "\tmask_blured = cv2.GaussianBlur(mask, kernel_1, 0)\n",
        "\tmask_blured = mask_blured/(mask_blured.max())\n",
        "\tmask_blured[mask_blured<1]=0\n",
        "\t\n",
        "\tmask_blured = cv2.GaussianBlur(mask_blured, kernel_2, np.random.randint(5,46))\n",
        "\tmask_blured = mask_blured/(mask_blured.max())\n",
        "\tmask_blured = cv2.resize(mask_blured,(W,H))\n",
        "\treturn mask_blured.reshape((mask_blured.shape+(1,)))\n",
        "\n",
        "\n",
        "def get_alpha_blend_mask(mask):\n",
        "\tkernel_list=[(11,11),(9,9),(7,7),(5,5),(3,3)]\n",
        "\tblend_list=[0.25,0.5,0.75]\n",
        "\tkernel_idxs=random.choices(range(len(kernel_list)), k=2)\n",
        "\tblend_ratio = blend_list[random.sample(range(len(blend_list)), 1)[0]]\n",
        "\tmask_blured = cv2.GaussianBlur(mask, kernel_list[0], 0)\n",
        "\t# print(mask_blured.max())\n",
        "\tmask_blured[mask_blured<mask_blured.max()]=0\n",
        "\tmask_blured[mask_blured>0]=1\n",
        "\t# mask_blured = mask\n",
        "\tmask_blured = cv2.GaussianBlur(mask_blured, kernel_list[kernel_idxs[1]], 0)\n",
        "\tmask_blured = mask_blured/(mask_blured.max())\n",
        "\treturn mask_blured.reshape((mask_blured.shape+(1,)))\n"
      ]
    }
  ]
}